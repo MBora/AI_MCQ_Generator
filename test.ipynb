{
 "cells": [
  {
   "cell_type": "code",
   "execution_count": 12,
   "metadata": {},
   "outputs": [],
   "source": [
    "import requests\n",
    "import json\n",
    "\n",
    "response = requests.post('http://localhost:8000/generate-mcq/1')\n"
   ]
  },
  {
   "cell_type": "code",
   "execution_count": 13,
   "metadata": {},
   "outputs": [],
   "source": [
    "mcq_data = response.json()"
   ]
  },
  {
   "cell_type": "code",
   "execution_count": 14,
   "metadata": {},
   "outputs": [
    {
     "name": "stdout",
     "output_type": "stream",
     "text": [
      "{'Question': 'Where does early B lymphoid differentiation take place?', 'Option A': 'Thymus', 'Option B': 'Spleen', 'Option C': 'Liver', 'Option D': 'Bone marrow', 'CorrectAnswer': 'Option D', 'Explanation': \"Early B lymphoid differentiation occurs in the bone marrow, as mentioned in the text: 'B lymphoid differentiation early, antigen-independent, which takes place in the bone marrow.'\"}\n"
     ]
    }
   ],
   "source": [
    "print(mcq_data)"
   ]
  },
  {
   "cell_type": "code",
   "execution_count": 17,
   "metadata": {},
   "outputs": [
    {
     "name": "stdout",
     "output_type": "stream",
     "text": [
      "Where does early B lymphoid differentiation take place?\n"
     ]
    }
   ],
   "source": [
    "question = mcq_data.get(\"Question\", \"No question provided\")\n",
    "print(question)"
   ]
  },
  {
   "cell_type": "code",
   "execution_count": 19,
   "metadata": {},
   "outputs": [
    {
     "name": "stdout",
     "output_type": "stream",
     "text": [
      "Thymus\n"
     ]
    }
   ],
   "source": [
    "OptionA = mcq_data.get(\"Option A\", \"No OptionA provided\")\n",
    "print(OptionA)"
   ]
  },
  {
   "cell_type": "code",
   "execution_count": 21,
   "metadata": {},
   "outputs": [
    {
     "name": "stdout",
     "output_type": "stream",
     "text": [
      "Option D\n"
     ]
    }
   ],
   "source": [
    "CorrectAnswer = mcq_data.get(\"CorrectAnswer\", \"No CorrectAnswer provided\")\n",
    "print(CorrectAnswer)"
   ]
  },
  {
   "cell_type": "code",
   "execution_count": null,
   "metadata": {},
   "outputs": [],
   "source": []
  }
 ],
 "metadata": {
  "kernelspec": {
   "display_name": "llama-index",
   "language": "python",
   "name": "python3"
  },
  "language_info": {
   "codemirror_mode": {
    "name": "ipython",
    "version": 3
   },
   "file_extension": ".py",
   "mimetype": "text/x-python",
   "name": "python",
   "nbconvert_exporter": "python",
   "pygments_lexer": "ipython3",
   "version": "3.10.13"
  }
 },
 "nbformat": 4,
 "nbformat_minor": 2
}
